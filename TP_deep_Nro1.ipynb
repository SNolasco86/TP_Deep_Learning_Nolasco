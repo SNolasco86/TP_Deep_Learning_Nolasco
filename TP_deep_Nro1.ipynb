{
 "cells": [
  {
   "cell_type": "markdown",
   "source": [
    "### TP_Examen_Deep_Learning"
   ],
   "metadata": {
    "collapsed": false,
    "pycharm": {
     "name": "#%% md\n"
    }
   }
  },
  {
   "cell_type": "markdown",
   "source": [
    "######  1- Entrenar el modelo propuesto a continuación de este enunciado. El modelo está haciendo underfitting, overfitting o un fit correcto. ¿Por qué? Explicar el procedimiento realizado.\n",
    "###### $$\\hat{y} = x^{3}W_{1}+x^{2}W_{2}+xW_{1}+b$$"
   ],
   "metadata": {
    "collapsed": false,
    "pycharm": {
     "name": "#%% md\n"
    }
   }
  },
  {
   "cell_type": "markdown",
   "source": [
    "#### Importamos bibliotecas"
   ],
   "metadata": {
    "collapsed": false,
    "pycharm": {
     "name": "#%% md\n"
    }
   }
  },
  {
   "cell_type": "code",
   "execution_count": 1,
   "outputs": [],
   "source": [
    "import numpy as np\n",
    "import matplotlib.pyplot as plt"
   ],
   "metadata": {
    "collapsed": false,
    "pycharm": {
     "name": "#%%\n"
    }
   }
  },
  {
   "cell_type": "markdown",
   "source": [
    "#### Definimos funciones"
   ],
   "metadata": {
    "collapsed": false,
    "pycharm": {
     "name": "#%% md\n"
    }
   }
  },
  {
   "cell_type": "code",
   "execution_count": 2,
   "metadata": {
    "collapsed": true,
    "pycharm": {
     "name": "#%%\n"
    }
   },
   "outputs": [],
   "source": [
    "def init_parameters():\n",
    "    W2 = np.random.randn(1)\n",
    "    W1 = np.random.randn(1)\n",
    "    b = np.zeros((1))\n",
    "\n",
    "\n",
    "    parameters = {\"W1\": W1,\n",
    "                  \"W2\": W2,\n",
    "                  \"b\": b}\n",
    "    return parameters"
   ]
  },
  {
   "cell_type": "code",
   "execution_count": 3,
   "outputs": [],
   "source": [
    "def forward_propagation(X, parameters):\n",
    "    # paramters\n",
    "    W1 = parameters[\"W1\"]\n",
    "    W2 = parameters[\"W2\"]\n",
    "    b = parameters[\"b\"]\n",
    "    # function first neuron\n",
    "    W = np.array([[W1,W2,W1]]).reshape(1,3)\n",
    "    X = np.reshape(X,(1,3))\n",
    "    Z = np.dot(W, X.T) + b\n",
    "\n",
    "    return Z"
   ],
   "metadata": {
    "collapsed": false,
    "pycharm": {
     "name": "#%%\n"
    }
   }
  },
  {
   "cell_type": "code",
   "execution_count": 4,
   "outputs": [],
   "source": [
    "def compute_cost(Z, Y):\n",
    "    Y = np.reshape(Y,(1,1))\n",
    "\n",
    "    cost =(Y - Z)\n",
    "\n",
    "    return cost"
   ],
   "metadata": {
    "collapsed": false,
    "pycharm": {
     "name": "#%%\n"
    }
   }
  },
  {
   "cell_type": "code",
   "execution_count": 5,
   "outputs": [],
   "source": [
    "def backward_propagation(parameters, Z, X, Y):\n",
    "\n",
    "\n",
    "    W1 = parameters[\"W1\"]\n",
    "    W2 = parameters[\"W2\"]\n",
    "    b = parameters[\"b\"]\n",
    "\n",
    "    X = np.reshape(X,(3,1))\n",
    "    Y = np.reshape(Y,(1,1))\n",
    "    dZ = -2*(Y-Z)\n",
    "\n",
    "    dW1 = dZ*(X[0,:]+X[2,:])\n",
    "    dW2 = dZ*(X[1,:])\n",
    "    db = dZ\n",
    "\n",
    "\n",
    "    grads = {\"dW1\": dW1,\n",
    "             \"dW2\": dW2,\n",
    "             \"db\": db}\n",
    "\n",
    "    return grads"
   ],
   "metadata": {
    "collapsed": false,
    "pycharm": {
     "name": "#%%\n"
    }
   }
  },
  {
   "cell_type": "code",
   "execution_count": 6,
   "outputs": [],
   "source": [
    "def update_parameters(parameters, grads, learning_rate):\n",
    "    W1 = parameters[\"W1\"]\n",
    "    W2 = parameters[\"W2\"]\n",
    "    b= parameters[\"b\"]\n",
    "\n",
    "    dW1 = grads[\"dW1\"]\n",
    "    dW2 = grads[\"dW2\"]\n",
    "    db = grads[\"db\"]\n",
    "\n",
    "\n",
    "\n",
    "    W1 = W1 - learning_rate * dW1\n",
    "    W2 = W2 - learning_rate * dW2\n",
    "    b = b - learning_rate * db\n",
    "\n",
    "\n",
    "    parameters = {\"W1\": W1,\n",
    "                  \"W2\": W2,\n",
    "                  \"b\": b}\n",
    "    return parameters"
   ],
   "metadata": {
    "collapsed": false,
    "pycharm": {
     "name": "#%%\n"
    }
   }
  },
  {
   "cell_type": "code",
   "execution_count": 7,
   "outputs": [],
   "source": [
    "# NN_model\n",
    "def nn_model(X, Y, valid_x, valid_y, learning_rate, num_iterations):\n",
    "    # Initialize parameters\n",
    "    losses = np.zeros((num_iterations, 1))\n",
    "    losses_test = np.zeros((num_iterations, 1))\n",
    "    parameters = init_parameters()\n",
    "    W1 = parameters[\"W1\"]\n",
    "    W2 = parameters[\"W2\"]\n",
    "    b = parameters[\"b\"]\n",
    "\n",
    "    salida=[]\n",
    "    salida_test=[]\n",
    "    # Loop (SGD)\n",
    "    for i in range(0, num_iterations):\n",
    "        ################################\n",
    "        ###########Training#############\n",
    "        for j in range (8000):\n",
    "        # Forward propagation\n",
    "            Z = forward_propagation(X[j,:], parameters)\n",
    "        # Error\n",
    "            error = compute_cost(Z, Y[j])\n",
    "        # Backpropagation.\n",
    "            grads = backward_propagation(parameters,Z, X[j,:], Y[j])\n",
    "        # Update each parameter\n",
    "            parameters = update_parameters(parameters, grads, learning_rate)\n",
    "\n",
    "            cost =  np.sum(np.power(error,2))\n",
    "            salida.append(Z)\n",
    "        MSE = cost/8000\n",
    "        #plt.plot(i,MSE,'bo')\n",
    "        losses[i, 0]= MSE\n",
    "\n",
    "        ################################\n",
    "        ###########Validating#############\n",
    "        for j in range (2000):\n",
    "        # Forward propagation\n",
    "            Z = forward_propagation(valid_x[j,:], parameters)\n",
    "        # Error\n",
    "            error = compute_cost(Z, valid_y[j])\n",
    "        # Backpropagation.\n",
    "            #grads = backward_propagation(parameters,Z, valid_x[j,:], valid_y[j])\n",
    "        # Update each parameter\n",
    "            #parameters = update_parameters(parameters, grads, learning_rate)\n",
    "\n",
    "            cost =  np.sum(np.power(error,2))\n",
    "            salida_test.append(Z)\n",
    "        MSE_test = cost/2000\n",
    "        #plt.plot(i,MSE_test,'bo')\n",
    "        losses_test[i, 0]= MSE_test\n",
    "\n",
    "    return parameters, salida, losses, losses_test"
   ],
   "metadata": {
    "collapsed": false,
    "pycharm": {
     "name": "#%%\n"
    }
   }
  },
  {
   "cell_type": "markdown",
   "source": [],
   "metadata": {
    "collapsed": false,
    "pycharm": {
     "name": "#%% md\n"
    }
   }
  },
  {
   "cell_type": "markdown",
   "source": [
    "#### Carga del dataset y separación de los datos de entrenamiento"
   ],
   "metadata": {
    "collapsed": false,
    "pycharm": {
     "name": "#%% md\n"
    }
   }
  },
  {
   "cell_type": "code",
   "execution_count": 8,
   "outputs": [
    {
     "name": "stdout",
     "output_type": "stream",
     "text": [
      "(2000, 4)\n",
      "(8000, 3) (8000, 1)\n"
     ]
    }
   ],
   "source": [
    "import pandas as pd\n",
    "data_1 = pd.read_csv('./data/dataset_1.csv')\n",
    "\n",
    "y_root = np.array(data_1.iloc[:,1]).reshape(10000,1)\n",
    "x_root =  data_1.iloc[:, 0]\n",
    "\n",
    "x3 = np.array(x_root**3).reshape(10000,1)\n",
    "x2 = np.array(x_root**2).reshape(10000,1)\n",
    "x1 = np.array(x_root).reshape(10000,1)\n",
    "df = np.concatenate((x3,x2,x1,y_root),axis=1)\n",
    "\n",
    "p_train = 0.80 # Porcentaje de train.\n",
    "train = (df[:int(len(df)*p_train),:])\n",
    "valid = (df[int(len(df)*p_train):,:])\n",
    "print(valid.shape)\n",
    "train_X, train_y = np.array(train[:, :-1]).reshape(8000,3), np.array(train[:, -1]).reshape(8000,1)\n",
    "valid_X, valid_y = np.array(valid[:, :-1]).reshape(2000,3), np.array(valid[:, -1]).reshape(2000,1)\n",
    "print(train_X.shape, train_y.shape)\n",
    "#matriz_X = x_root\n",
    "#matriz_Y = y"
   ],
   "metadata": {
    "collapsed": false,
    "pycharm": {
     "name": "#%%\n"
    }
   }
  },
  {
   "cell_type": "markdown",
   "source": [
    "#### Gráfico de los datos de entrenamiento"
   ],
   "metadata": {
    "collapsed": false,
    "pycharm": {
     "name": "#%% md\n"
    }
   }
  },
  {
   "cell_type": "markdown",
   "source": [
    "##### Grafico original de datos Y vs x"
   ],
   "metadata": {
    "collapsed": false,
    "pycharm": {
     "name": "#%% md\n"
    }
   }
  },
  {
   "cell_type": "code",
   "execution_count": 9,
   "outputs": [
    {
     "data": {
      "text/plain": "<Figure size 432x288 with 1 Axes>",
      "image/png": "[encoded data removed]"
     },
     "metadata": {
      "needs_background": "light"
     },
     "output_type": "display_data"
    }
   ],
   "source": [
    "# Original X vs Y\n",
    "plt.scatter(x_root,y_root)\n",
    "plt.show()"
   ],
   "metadata": {
    "collapsed": false,
    "pycharm": {
     "name": "#%%\n"
    }
   }
  },
  {
   "cell_type": "code",
   "execution_count": 11,
   "outputs": [],
   "source": [
    "# Training polynom\n",
    "parameters, salida, losses, losses_valid = nn_model(train_X, train_y, valid_X, valid_y, 0.00001 , num_iterations = 1000)"
   ],
   "metadata": {
    "collapsed": false,
    "pycharm": {
     "name": "#%%\n"
    }
   }
  },
  {
   "cell_type": "markdown",
   "source": [
    "##### Grafico  train vs valid en funcion de las epochs"
   ],
   "metadata": {
    "collapsed": false,
    "pycharm": {
     "name": "#%% md\n"
    }
   }
  },
  {
   "cell_type": "code",
   "execution_count": 12,
   "outputs": [
    {
     "data": {
      "text/plain": "<Figure size 432x288 with 1 Axes>",
      "image/png": "[encoded data removed]"
     },
     "metadata": {
      "needs_background": "light"
     },
     "output_type": "display_data"
    }
   ],
   "source": [
    "# Evaluating the performance\n",
    "plt.figure()\n",
    "plt.plot(losses)\n",
    "plt.plot(losses_valid)\n",
    "plt.xlabel(\"EPOCHS\")\n",
    "plt.ylabel(\"Loss value\")\n",
    "plt.show()"
   ],
   "metadata": {
    "collapsed": false,
    "pycharm": {
     "name": "#%%\n"
    }
   }
  },
  {
   "cell_type": "code",
   "execution_count": 13,
   "outputs": [],
   "source": [
    "SALIDA = salida[-8000:]\n",
    "x_salida = train_X[-8000:,2]\n"
   ],
   "metadata": {
    "collapsed": false,
    "pycharm": {
     "name": "#%%\n"
    }
   }
  },
  {
   "cell_type": "markdown",
   "source": [
    "#### Gráfico de la salida del modelo sin función de activación"
   ],
   "metadata": {
    "collapsed": false,
    "pycharm": {
     "name": "#%% md\n"
    }
   }
  },
  {
   "cell_type": "code",
   "execution_count": 14,
   "outputs": [
    {
     "data": {
      "text/plain": "<Figure size 432x288 with 1 Axes>",
      "image/png": "[encoded data removed]"
     },
     "metadata": {
      "needs_background": "light"
     },
     "output_type": "display_data"
    }
   ],
   "source": [
    "plt.scatter(x_salida,SALIDA)\n",
    "plt.show()"
   ],
   "metadata": {
    "collapsed": false,
    "pycharm": {
     "name": "#%%\n"
    }
   }
  },
  {
   "cell_type": "markdown",
   "source": [],
   "metadata": {
    "collapsed": false,
    "pycharm": {
     "name": "#%% md\n"
    }
   }
  },
  {
   "cell_type": "markdown",
   "source": [
    "#### Conclusión:\n",
    "###### Se desarrolló un modelo según la función polinomica de 3er grado con una función de \"loss\" SGD para actualizar los pesos W1 y W2. IMPORTANTE, es necesario en este ejemplo tener un learning rate < 0.01 ya que pasé una semana creyendo que el modelo estaba mal y nunca lograba la convergencia.\n",
    "###### Según el error de entrenamiento es cercano a cero y en pocas iteraciones. La diferencia del error entre training y validating es poca, pero lo más importante es que a medida que aumentan las epochs el error de validating no aumenta sino que se trata de aproximar al error de entrenamiento. Esto significa que el modelo está haciendo un correcto fitting. Además de comparar el gráfico original (f(x)=y) y sin hacer validación puedo inferir que el modelo aproxima realmente al gráfico original. Esto significa que el modelo es correcto en aproximar su salida según la función cúbica, solo fue necesario encontrar los pesos W1 y W2 correctos."
   ],
   "metadata": {
    "collapsed": false,
    "pycharm": {
     "name": "#%% md\n"
    }
   }
  }
 ],
 "metadata": {
  "kernelspec": {
   "display_name": "Python 3",
   "language": "python",
   "name": "python3"
  },
  "language_info": {
   "codemirror_mode": {
    "name": "ipython",
    "version": 2
   },
   "file_extension": ".py",
   "mimetype": "text/x-python",
   "name": "python",
   "nbconvert_exporter": "python",
   "pygments_lexer": "ipython2",
   "version": "2.7.6"
  }
 },
 "nbformat": 4,
 "nbformat_minor": 0
}