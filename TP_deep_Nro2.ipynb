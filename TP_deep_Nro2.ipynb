{
 "cells": [
  {
   "cell_type": "markdown",
   "source": [
    "# TP_Examen_Deep_Learning"
   ],
   "metadata": {
    "collapsed": false,
    "pycharm": {
     "name": "#%% md\n"
    }
   }
  },
  {
   "cell_type": "markdown",
   "source": [
    "###  2- Utilizando el mismo dataset que en el link anterior, diseñar una red neuronal que haga un overfitting sobre el dataset. ¿Cómo saben que la red neuronal está haciendo overfitting? Agregar regularización y encontrar los parámetros correctos para lograr un buen fit. Explicar el procedimiento realizado.\n"
   ],
   "metadata": {
    "collapsed": false,
    "pycharm": {
     "name": "#%% md\n"
    }
   }
  },
  {
   "cell_type": "markdown",
   "source": [
    "#### Importamos bibliotecas"
   ],
   "metadata": {
    "collapsed": false,
    "pycharm": {
     "name": "#%% md\n"
    }
   }
  },
  {
   "cell_type": "code",
   "execution_count": 1,
   "outputs": [],
   "source": [
    "import numpy as np\n",
    "import matplotlib.pyplot as plt"
   ],
   "metadata": {
    "collapsed": false,
    "pycharm": {
     "name": "#%%\n"
    }
   }
  },
  {
   "cell_type": "markdown",
   "source": [
    "#### Definimos funciones"
   ],
   "metadata": {
    "collapsed": false,
    "pycharm": {
     "name": "#%% md\n"
    }
   }
  },
  {
   "cell_type": "code",
   "execution_count": 2,
   "outputs": [],
   "source": [
    "def initialize_parameters(n_x, n_h1, n_h2, n_h3, n_y):\n",
    "\n",
    "    np.random.seed(1)\n",
    "\n",
    "    W1 = np.random.randn(n_h1,n_x)*0.1\n",
    "    b1 = np.zeros((n_h1,1))\n",
    "    W2 = np.random.randn(n_h2,n_h1)*0.1\n",
    "    b2 = np.zeros((n_h2,1))\n",
    "    W3 = np.random.randn(n_h3,n_h2)*0.1\n",
    "    b3 = np.zeros((n_h3,1))\n",
    "    W4 = np.random.randn(n_y,n_h3)*0.1\n",
    "    b4 = np.zeros((n_y,1))\n",
    "\n",
    "\n",
    "    assert (W1.shape == (n_h1, n_x))\n",
    "    assert (b1.shape == (n_h1, 1))\n",
    "    assert (W2.shape == (n_h2, n_h1))\n",
    "    assert (b2.shape == (n_h2, 1))\n",
    "    assert (W3.shape == (n_h3, n_h2))\n",
    "    assert (b3.shape == (n_h3, 1))\n",
    "    assert (W4.shape == (n_y, n_h3))\n",
    "    assert (b4.shape == (n_y, 1))\n",
    "    parameters = {\"W1\": W1,\n",
    "                  \"b1\": b1,\n",
    "                  \"W2\": W2,\n",
    "                  \"b2\": b2,\n",
    "                  \"W3\": W3,\n",
    "                  \"b3\": b3,\n",
    "                  \"W4\": W4,\n",
    "                  \"b4\": b4}\n",
    "\n",
    "    return parameters"
   ],
   "metadata": {
    "collapsed": false,
    "pycharm": {
     "name": "#%%\n"
    }
   }
  },
  {
   "cell_type": "code",
   "execution_count": 3,
   "outputs": [],
   "source": [
    "# Sigmoid_function\n",
    "def sigmoid(z):\n",
    "    s = 1/(1+np.exp(-z))\n",
    "    return s\n",
    "# Derivative_Sigmoid\n",
    "def derivative_sigmoid(s):\n",
    "    #s = sigmoid(x)\n",
    "    ds = s*(1-s)\n",
    "    return ds"
   ],
   "metadata": {
    "collapsed": false,
    "pycharm": {
     "name": "#%%\n"
    }
   }
  },
  {
   "cell_type": "code",
   "execution_count": 4,
   "outputs": [],
   "source": [
    "def forward_propagation(X, parameters):\n",
    "\n",
    "    W1 = parameters[\"W1\"]\n",
    "    b1 = parameters[\"b1\"]\n",
    "    W2 = parameters[\"W2\"]\n",
    "    b2 = parameters[\"b2\"]\n",
    "    #####################\n",
    "    W3 = parameters[\"W3\"]\n",
    "    b3 = parameters[\"b3\"]\n",
    "    W4 = parameters[\"W4\"]\n",
    "    b4 = parameters[\"b4\"]\n",
    "\n",
    "\n",
    "\n",
    "    Z1 = np.dot(W1,X) + b1\n",
    "    A1 = np.tanh(Z1)\n",
    "\n",
    "    Z2 = np.dot(W2,A1) + b2\n",
    "    A2 = np.tanh(Z2)\n",
    "\n",
    "    Z3 = np.dot(W3,A2) + b3\n",
    "    A3 = sigmoid(Z3)\n",
    "\n",
    "    Z4 = np.dot(W4,A3) + b4\n",
    "\n",
    "\n",
    "    cache = {\"Z1\": Z1,\n",
    "             \"A1\": A1,\n",
    "             \"Z2\": Z2,\n",
    "             \"A2\": A2,\n",
    "             \"Z3\": Z3,\n",
    "             \"A3\": A3,\n",
    "             \"Z4\": Z4}\n",
    "\n",
    "    return Z4, cache\n"
   ],
   "metadata": {
    "collapsed": false,
    "pycharm": {
     "name": "#%%\n"
    }
   }
  },
  {
   "cell_type": "code",
   "execution_count": 5,
   "outputs": [],
   "source": [
    "def compute_cost(parameters, ladba, Z, Y):\n",
    "\n",
    "    W1 = parameters[\"W1\"]\n",
    "    W2 = parameters[\"W2\"]\n",
    "    W3 = parameters[\"W3\"]\n",
    "    W4 = parameters[\"W4\"]\n",
    "    Y = np.reshape(Y,(1,1))\n",
    "    # Regulation_L2\n",
    "    L2_reg = (ladba/2)*(np.sum(np.square(W1))+np.sum(np.square(W2))+np.sum(np.square(W3))+np.sum(np.square(W4)))\n",
    "    cost = (Y - Z) + L2_reg\n",
    "\n",
    "    return cost\n"
   ],
   "metadata": {
    "collapsed": false,
    "pycharm": {
     "name": "#%%\n"
    }
   }
  },
  {
   "cell_type": "code",
   "execution_count": 6,
   "outputs": [],
   "source": [
    "def backward_propagation(parameters, ladba, cache, X, Y):\n",
    "\n",
    "    W1 = parameters[\"W1\"]\n",
    "    b1 = parameters[\"b1\"]\n",
    "    W2 = parameters[\"W2\"]\n",
    "    b2 = parameters[\"b2\"]\n",
    "    #####################\n",
    "    W3 = parameters[\"W3\"]\n",
    "    b3 = parameters[\"b3\"]\n",
    "    W4 = parameters[\"W4\"]\n",
    "    b4 = parameters[\"b4\"]\n",
    "\n",
    "    A1 = cache[\"A1\"]\n",
    "    A2 = cache[\"A2\"]\n",
    "    A3 = cache[\"A3\"]\n",
    "    Z1 = cache[\"Z1\"]\n",
    "    Z2 = cache[\"Z2\"]\n",
    "    Z3 = cache[\"Z3\"]\n",
    "    Z4 = cache[\"Z4\"]\n",
    "\n",
    "    dZ4 = -2*(Y-Z4)\n",
    "    dW4 = np.dot(dZ4,A3.T)+(ladba*W4)\n",
    "    db4 = dZ4\n",
    "    dZ3 = np.multiply(np.dot(W4.T, dZ4), derivative_sigmoid(A3))\n",
    "    dW3 = np.dot(dZ3, A2.T)+(ladba*W3)\n",
    "    db3 = dZ3\n",
    "    dZ2 = np.dot(W3.T,dZ3) * (1 - np.power(A2,2))\n",
    "    dW2 = np.dot(dZ2, A1.T)+(ladba*W2)\n",
    "    db2 = dZ2\n",
    "    dZ1 = np.dot(W2.T,dZ2) * (1 - np.power(A1,2))\n",
    "    dW1 = np.dot(dZ1, X.T)+(ladba*W1)\n",
    "    db1 = dZ1\n",
    "\n",
    "\n",
    "    grads = {\"dW1\": dW1,\n",
    "             \"db1\": db1,\n",
    "             \"dW2\": dW2,\n",
    "             \"db2\": db2,\n",
    "             \"dW3\": dW3,\n",
    "             \"db3\": db3,\n",
    "             \"dW4\": dW4,\n",
    "             \"db4\": db4}\n",
    "\n",
    "    return grads\n"
   ],
   "metadata": {
    "collapsed": false,
    "pycharm": {
     "name": "#%%\n"
    }
   }
  },
  {
   "cell_type": "code",
   "execution_count": 7,
   "outputs": [],
   "source": [
    "def update_parameters(parameters, grads, learning_rate):\n",
    "\n",
    "    W1 = parameters[\"W1\"]\n",
    "    b1 = parameters[\"b1\"]\n",
    "    W2 = parameters[\"W2\"]\n",
    "    b2 = parameters[\"b2\"]\n",
    "    #####################\n",
    "    W3 = parameters[\"W3\"]\n",
    "    b3 = parameters[\"b3\"]\n",
    "    W4 = parameters[\"W4\"]\n",
    "    b4 = parameters[\"b4\"]\n",
    "    ### END CODE HERE ###\n",
    "\n",
    "\n",
    "    dW1 = grads[\"dW1\"]\n",
    "    db1 = grads[\"db1\"]\n",
    "    dW2 = grads[\"dW2\"]\n",
    "    db2 = grads[\"db2\"]\n",
    "    ########################\n",
    "    dW3 = grads[\"dW3\"]\n",
    "    db3 = grads[\"db3\"]\n",
    "    dW4 = grads[\"dW4\"]\n",
    "    db4 = grads[\"db4\"]\n",
    "\n",
    "\n",
    "    W1 = W1 - learning_rate * dW1\n",
    "    b1 = b1 - learning_rate * db1\n",
    "    W2 = W2 - learning_rate * dW2\n",
    "    b2 = b2 - learning_rate * db2\n",
    "    W3 = W3 - learning_rate * dW3\n",
    "    b3 = b3 - learning_rate * db3\n",
    "    W4 = W4 - learning_rate * dW4\n",
    "    b4 = b4 - learning_rate * db4\n",
    "\n",
    "\n",
    "    parameters = {\"W1\": W1,\n",
    "                  \"b1\": b1,\n",
    "                  \"W2\": W2,\n",
    "                  \"b2\": b2,\n",
    "                  \"W3\": W3,\n",
    "                  \"b3\": b3,\n",
    "                  \"W4\": W4,\n",
    "                  \"b4\": b4}\n",
    "\n",
    "    return parameters"
   ],
   "metadata": {
    "collapsed": false,
    "pycharm": {
     "name": "#%%\n"
    }
   }
  },
  {
   "cell_type": "markdown",
   "source": [
    "#### Neural Network"
   ],
   "metadata": {
    "collapsed": false,
    "pycharm": {
     "name": "#%% md\n"
    }
   }
  },
  {
   "cell_type": "code",
   "execution_count": 8,
   "outputs": [],
   "source": [
    "# NN_model\n",
    "def nn_model(X, Y, x_valid, y_valid, n1,n2,n3,ladba, learning_rate, num_iterations):\n",
    "\n",
    "    losses = np.zeros((num_iterations, 1))\n",
    "    losses_valid = np.zeros((num_iterations, 1))\n",
    "    parameters = initialize_parameters(n_x=1, n_h1=n1, n_h2=n2, n_h3=n3, n_y=1)\n",
    "    W1 = parameters[\"W1\"]\n",
    "    b1 = parameters[\"b1\"]\n",
    "    W2 = parameters[\"W2\"]\n",
    "    b2 = parameters[\"b2\"]\n",
    "    W3 = parameters[\"W3\"]\n",
    "    b3 = parameters[\"b3\"]\n",
    "    W4 = parameters[\"W4\"]\n",
    "    b4 = parameters[\"b4\"]\n",
    "\n",
    "    salida=[]\n",
    "    # Loop (SGD)\n",
    "    for i in range(0, num_iterations):\n",
    "        #Training\n",
    "        for j in range (8041):\n",
    "        # Forward propagation\n",
    "            Z, cache = forward_propagation(X[j], parameters)\n",
    "            error = compute_cost(parameters,ladba,Z, Y[j])\n",
    "        # Backpropagation\n",
    "            grads = backward_propagation(parameters,ladba,cache, X[j], Y[j])\n",
    "        # Update each parameter\n",
    "            parameters = update_parameters(parameters, grads, learning_rate)\n",
    "\n",
    "            cost =  np.sum(np.power(error,2))\n",
    "            salida.append(Z)\n",
    "        MSE = cost/8041\n",
    "        #plt.plot(i,MSE,'bo')\n",
    "        losses[i, 0]= MSE\n",
    "\n",
    "        #Valid\n",
    "        for g in range (1959):\n",
    "        # Forward propagation\n",
    "            Z, cache = forward_propagation(x_valid[g], parameters)\n",
    "            error = compute_cost(parameters,ladba,Z, y_valid[g])\n",
    "        # Backpropagation\n",
    "            #grads = backward_propagation(parameters,ladba,cache, x_valid[g], y_valid[g])\n",
    "        # Update each parameter\n",
    "            #parameters = update_parameters(parameters, grads, learning_rate)\n",
    "\n",
    "            cost =  np.sum(np.power(error,2))\n",
    "            #salida.append(Z)\n",
    "        MSE_valid = cost/1959\n",
    "        #plt.plot(i,MSE,'bo')\n",
    "        losses_valid[i, 0]= MSE_valid\n",
    "    return parameters, salida, losses, losses_valid"
   ],
   "metadata": {
    "collapsed": false,
    "pycharm": {
     "name": "#%%\n"
    }
   }
  },
  {
   "cell_type": "markdown",
   "source": [
    "#### Cargamos nuestro dataframe\n",
    "##### Tomamos los datos random y separamos el dataset en train y valid"
   ],
   "metadata": {
    "collapsed": false,
    "pycharm": {
     "name": "#%% md\n"
    }
   }
  },
  {
   "cell_type": "code",
   "execution_count": 10,
   "outputs": [
    {
     "name": "stdout",
     "output_type": "stream",
     "text": [
      "Ejemplos usados para entrenar:  8041\n",
      "Ejemplos usados para test:  1959\n",
      "16082\n",
      "3918\n",
      "(8041,) (8041,)\n",
      "(1959,) (1959,)\n"
     ]
    }
   ],
   "source": [
    "import pandas as pd\n",
    "data_1 = pd.read_csv('./data/dataset_1.csv')\n",
    "\n",
    "p_train = 0.80 # Porcentaje de train.\n",
    "np.random.seed(1)\n",
    "data_1['is_train'] = np.random.uniform(0, 1, len(data_1)) <= p_train\n",
    "train, valid = data_1[data_1['is_train']==True], data_1[data_1['is_train']==False]\n",
    "train = train.drop(columns='is_train')\n",
    "valid = valid.drop(columns='is_train')\n",
    "\n",
    "print(\"Ejemplos usados para entrenar: \", len(train))\n",
    "print(\"Ejemplos usados para test: \", len(valid))\n",
    "\n",
    "print(train.size)\n",
    "print(valid.size)\n",
    "\n",
    "train = np.array(train).reshape(8041,2)\n",
    "valid = np.array(valid).reshape(1959,2)\n",
    "\n",
    "train_X, train_y = train[:, 0], train[:, 1]\n",
    "valid_X, valid_y = valid[:, 0], valid[:, 1]\n",
    "\n",
    "print(train_X.shape, train_y.shape)\n",
    "print(valid_X.shape, valid_y.shape)\n"
   ],
   "metadata": {
    "collapsed": false,
    "pycharm": {
     "name": "#%%\n"
    }
   }
  },
  {
   "cell_type": "markdown",
   "source": [
    "#### Modelo sin regularización L2 es decir con lambda = 0. Con overfitting"
   ],
   "metadata": {
    "collapsed": false,
    "pycharm": {
     "name": "#%% md\n"
    }
   }
  },
  {
   "cell_type": "markdown",
   "source": [
    "##### Tenemos como parametros Train y Validation tanto de entradas como de target, y como salidas patametros y loss de train y valid"
   ],
   "metadata": {
    "collapsed": false,
    "pycharm": {
     "name": "#%% md\n"
    }
   }
  },
  {
   "cell_type": "code",
   "execution_count": 12,
   "outputs": [],
   "source": [
    "parameters, salida, losses, losses_valid = nn_model(train_X, train_y, valid_X, valid_y, 8,8,4,ladba=0,learning_rate = 0.0007, num_iterations = 4000)"
   ],
   "metadata": {
    "collapsed": false,
    "pycharm": {
     "name": "#%%\n"
    }
   }
  },
  {
   "cell_type": "markdown",
   "source": [
    "##### Evaluamos el modelo desde 0 a las 4000 epochs sin regularización"
   ],
   "metadata": {
    "collapsed": false,
    "pycharm": {
     "name": "#%% md\n"
    }
   }
  },
  {
   "cell_type": "code",
   "execution_count": 13,
   "outputs": [
    {
     "data": {
      "text/plain": "<Figure size 432x288 with 1 Axes>",
      "image/png": "[encoded data removed]"
     },
     "metadata": {
      "needs_background": "light"
     },
     "output_type": "display_data"
    }
   ],
   "source": [
    "# Evaluating the performance\n",
    "plt.figure()\n",
    "plt.plot(losses,  label='Training')\n",
    "plt.plot(losses_valid,  label='Validating')\n",
    "plt.xlabel(\"EPOCHS\")\n",
    "plt.ylabel(\"Loss value\")\n",
    "plt.legend()\n",
    "plt.show()"
   ],
   "metadata": {
    "collapsed": false,
    "pycharm": {
     "name": "#%%\n"
    }
   }
  },
  {
   "cell_type": "markdown",
   "source": [
    "##### Pero si evaluamos el modelo desde 3700 a las 4000 epochs. Es decir  últimas 400 muestras podemos apreciar como el modelo hace overfitting (aumentando el error)."
   ],
   "metadata": {
    "collapsed": false,
    "pycharm": {
     "name": "#%% md\n"
    }
   }
  },
  {
   "cell_type": "code",
   "execution_count": 22,
   "outputs": [
    {
     "data": {
      "text/plain": "<Figure size 432x288 with 1 Axes>",
      "image/png": "[encoded data removed]"
     },
     "metadata": {
      "needs_background": "light"
     },
     "output_type": "display_data"
    }
   ],
   "source": [
    "# Evaluating the performance\n",
    "plt.figure()\n",
    "plt.plot(losses[3600:, 0],  label='Training')\n",
    "plt.plot(losses_valid[3600:, 0],  label='Validating')\n",
    "plt.xlabel(\"EPOCHS\")\n",
    "plt.ylabel(\"Loss value\")\n",
    "plt.legend()\n",
    "plt.show()"
   ],
   "metadata": {
    "collapsed": false,
    "pycharm": {
     "name": "#%%\n"
    }
   }
  },
  {
   "cell_type": "code",
   "execution_count": 23,
   "outputs": [
    {
     "data": {
      "text/plain": "<Figure size 432x288 with 1 Axes>",
      "image/png": "[encoded data removed]"
     },
     "metadata": {
      "needs_background": "light"
     },
     "output_type": "display_data"
    }
   ],
   "source": [
    "SALIDA = salida[-8000:]\n",
    "x_salida = train_X[-8000:]\n",
    "plt.scatter(x_salida,SALIDA)\n",
    "plt.show()"
   ],
   "metadata": {
    "collapsed": false,
    "pycharm": {
     "name": "#%%\n"
    }
   }
  },
  {
   "cell_type": "markdown",
   "source": [
    "#### Modelo con regularización L2 , y lambda = 0.0075"
   ],
   "metadata": {
    "collapsed": false,
    "pycharm": {
     "name": "#%% md\n"
    }
   }
  },
  {
   "cell_type": "code",
   "execution_count": 24,
   "outputs": [],
   "source": [
    "parameters, salida, losses, losses_valid= nn_model(train_X, train_y, valid_X, valid_y,8,8,4,ladba=0.0075,learning_rate = 0.0007, num_iterations = 2000)"
   ],
   "metadata": {
    "collapsed": false,
    "pycharm": {
     "name": "#%%\n"
    }
   }
  },
  {
   "cell_type": "markdown",
   "source": [
    "##### Evaluamos el modelo desde 0 a las 1000 epochs con regularización"
   ],
   "metadata": {
    "collapsed": false,
    "pycharm": {
     "name": "#%% md\n"
    }
   }
  },
  {
   "cell_type": "code",
   "execution_count": 25,
   "outputs": [
    {
     "data": {
      "text/plain": "<Figure size 432x288 with 1 Axes>",
      "image/png": "[encoded data removed]"
     },
     "metadata": {
      "needs_background": "light"
     },
     "output_type": "display_data"
    }
   ],
   "source": [
    "# Evaluating the performance\n",
    "plt.figure()\n",
    "plt.plot(losses, label='Training')\n",
    "plt.plot(losses_valid, label='Validating')\n",
    "plt.xlabel(\"EPOCHS\")\n",
    "plt.ylabel(\"Loss value\")\n",
    "plt.legend()\n",
    "plt.show()"
   ],
   "metadata": {
    "collapsed": false,
    "pycharm": {
     "name": "#%%\n"
    }
   }
  },
  {
   "cell_type": "markdown",
   "source": [
    "##### Pero si evaluamos el modelo desde 200 a las 2000 epochs. Es decir 1800 muestras podemos apreciar como el modelo tiene un error minimo (0.2x10-6)  de \"validating\" que se mantiene constante, es decir esta haciendo un buen fit (se estabiliza, desde 500 epochs)."
   ],
   "metadata": {
    "collapsed": false,
    "pycharm": {
     "name": "#%% md\n"
    }
   }
  },
  {
   "cell_type": "code",
   "execution_count": 28,
   "outputs": [
    {
     "data": {
      "text/plain": "<Figure size 432x288 with 1 Axes>",
      "image/png": "[encoded data removed]"
     },
     "metadata": {
      "needs_background": "light"
     },
     "output_type": "display_data"
    }
   ],
   "source": [
    "# Evaluating the performance\n",
    "plt.figure()\n",
    "plt.plot(losses[200:, 0], label='Training')\n",
    "plt.plot(losses_valid[200:, 0], label='Validating')\n",
    "plt.xlabel(\"EPOCHS\")\n",
    "plt.ylabel(\"Loss value\")\n",
    "plt.legend()\n",
    "plt.show()"
   ],
   "metadata": {
    "collapsed": false,
    "pycharm": {
     "name": "#%%\n"
    }
   }
  },
  {
   "cell_type": "markdown",
   "source": [
    "### IMPORTANTE : la diferencia es 0.000004 error entre training y validating"
   ],
   "metadata": {
    "collapsed": false,
    "pycharm": {
     "name": "#%% md\n"
    }
   }
  },
  {
   "cell_type": "code",
   "execution_count": 29,
   "outputs": [
    {
     "data": {
      "text/plain": "<Figure size 432x288 with 1 Axes>",
      "image/png": "[encoded data removed]"
     },
     "metadata": {
      "needs_background": "light"
     },
     "output_type": "display_data"
    }
   ],
   "source": [
    "SALIDA = salida[-8000:]\n",
    "x_salida = train_X[-8000:]\n",
    "plt.scatter(x_salida,SALIDA)\n",
    "plt.show()"
   ],
   "metadata": {
    "collapsed": false,
    "pycharm": {
     "name": "#%%\n"
    }
   }
  },
  {
   "cell_type": "markdown",
   "source": [
    "### Conclusión:\n",
    "##### En el primer entrenamiento podemos notar como el modelo hace overfiting, el error de entrenamiento luego de 30 ó 40 epochs empieza a crecer, alejandose muy poco del error de entrenamiento hasta cercano a las 1000 epochs. También podemos ver el sobreajuste en el gráfico de salida del modelo entrenado (y_hat).\n",
    "##### En el segundo entrenamiento con regulación L2, podemos ver que el modelo gana mas generalidad, dado por la penalización de lambda en la función del gradiente. Por lo tanto el modelo terminó logrando una mejor respuesta de entrenamiento. Esto está representado en el error de validadción que a medida de la cantidad de epochs se acerca al error de entrenamiento."
   ],
   "metadata": {
    "collapsed": false,
    "pycharm": {
     "name": "#%% md\n"
    }
   }
  },
  {
   "cell_type": "code",
   "execution_count": null,
   "outputs": [],
   "source": [],
   "metadata": {
    "collapsed": false,
    "pycharm": {
     "name": "#%%\n"
    }
   }
  }
 ],
 "metadata": {
  "kernelspec": {
   "display_name": "Python 3",
   "language": "python",
   "name": "python3"
  },
  "language_info": {
   "codemirror_mode": {
    "name": "ipython",
    "version": 2
   },
   "file_extension": ".py",
   "mimetype": "text/x-python",
   "name": "python",
   "nbconvert_exporter": "python",
   "pygments_lexer": "ipython2",
   "version": "2.7.6"
  }
 },
 "nbformat": 4,
 "nbformat_minor": 0
}